{
 "cells": [
  {
   "cell_type": "markdown",
   "metadata": {},
   "source": [
    "![Growdev](https://www.growdev.com.br/assets/images/logo_growdev.png)"
   ]
  },
  {
   "cell_type": "markdown",
   "metadata": {},
   "source": [
    "Exercícios"
   ]
  },
  {
   "cell_type": "markdown",
   "metadata": {},
   "source": [
    "Escreva um programa que solicite um número ao usuário e determine se é par ou ímpar"
   ]
  },
  {
   "cell_type": "code",
   "execution_count": null,
   "metadata": {},
   "outputs": [
    {
     "name": "stdout",
     "output_type": "stream",
     "text": [
      "IMPAR\n"
     ]
    }
   ],
   "source": [
    "# utilizar a % para descobrir o resto do numero\n",
    "numero_par_impar = int(input(' por favor digite um número: '))\n",
    "resultado = numero_par_impar % 2\n",
    "if (resultado==0):\n",
    "    print('PAR')\n",
    "else:\n",
    "    print('IMPAR')\n"
   ]
  },
  {
   "cell_type": "markdown",
   "metadata": {},
   "source": [
    "Escreva um programa que solicite os comprimentos dos lados de um triângulo e determine se ele é equilátero, isósceles ou escaleno."
   ]
  },
  {
   "cell_type": "code",
   "execution_count": 32,
   "metadata": {},
   "outputs": [
    {
     "name": "stdout",
     "output_type": "stream",
     "text": [
      "Medida do Primeiro Lado: 1\n",
      "Medida do Segundo Lado: 4\n",
      "Medida do Terceiro Lado: 4\n"
     ]
    }
   ],
   "source": [
    "lado1 = (input('Digite a medida do primeiro lado do triangulo'))\n",
    "print('Medida do Primeiro Lado: '+lado1)\n",
    "lado2 = (input('Digite a medida do segundo lado do triangulo'))\n",
    "print('Medida do Segundo Lado: '+lado2)\n",
    "lado3 = (input('Digite a medida do Terceiro lado do triangulo'))\n",
    "print('Medida do Terceiro Lado: '+lado3)"
   ]
  },
  {
   "cell_type": "markdown",
   "metadata": {},
   "source": [
    "Um triângulo equilátero tem todos os lados iguais, um triângulo isósceles tem dois lados iguais e um triângulo escaleno tem todos os lados diferentes."
   ]
  },
  {
   "cell_type": "code",
   "execution_count": 33,
   "metadata": {},
   "outputs": [
    {
     "name": "stdout",
     "output_type": "stream",
     "text": [
      "Isosceles\n"
     ]
    }
   ],
   "source": [
    "if (lado1==lado2==lado3):\n",
    "    print('Equilaterio')\n",
    "elif (lado1 == lado2) and (lado1 != lado3) or (lado2 == lado3) and (lado3 != lado1) :\n",
    "    print('Isosceles')\n",
    "elif (lado1 != lado2 and lado1 != lado3):\n",
    "    print('Escaleno')"
   ]
  },
  {
   "cell_type": "markdown",
   "metadata": {},
   "source": [
    "Escreva um programa que solicite a idade de uma pessoa e imprima se ela é criança, adolescente, adulta ou idosa."
   ]
  },
  {
   "cell_type": "markdown",
   "metadata": {},
   "source": [
    "Considere as seguintes faixas etárias:\n",
    "- Criança: até 12 anos\n",
    "- Adolescente: de 13 a 17 anos\n",
    "- Adulto: de 18 a 59 anos\n",
    "- Idoso: 60 anos ou mais"
   ]
  },
  {
   "cell_type": "code",
   "execution_count": 14,
   "metadata": {},
   "outputs": [
    {
     "name": "stdout",
     "output_type": "stream",
     "text": [
      "Idoso\n"
     ]
    }
   ],
   "source": [
    "idade = int(input('Digite a sua idade'))\n",
    "if (idade <= 12):\n",
    "    print('Crianca')\n",
    "elif (idade >= 13 and idade <= 17):\n",
    "    print('Adoslescente')\n",
    "elif (idade >= 18 and idade <=59):\n",
    "    print('Adulto')\n",
    "elif (idade >= 60):\n",
    "    print('Idoso')\n",
    "\n",
    "      "
   ]
  }
 ],
 "metadata": {
  "kernelspec": {
   "display_name": ".venv",
   "language": "python",
   "name": "python3"
  },
  "language_info": {
   "codemirror_mode": {
    "name": "ipython",
    "version": 3
   },
   "file_extension": ".py",
   "mimetype": "text/x-python",
   "name": "python",
   "nbconvert_exporter": "python",
   "pygments_lexer": "ipython3",
   "version": "3.12.9"
  }
 },
 "nbformat": 4,
 "nbformat_minor": 2
}
