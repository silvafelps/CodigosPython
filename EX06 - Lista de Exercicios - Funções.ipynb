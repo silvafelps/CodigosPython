{
 "cells": [
  {
   "cell_type": "markdown",
   "metadata": {},
   "source": [
    "![Growdev](https://www.growdev.com.br/assets/images/logo_growdev.png)"
   ]
  },
  {
   "cell_type": "markdown",
   "metadata": {},
   "source": [
    "Exercícios"
   ]
  },
  {
   "cell_type": "markdown",
   "metadata": {},
   "source": [
    "Escreva uma função chamada soma que recebe dois números como argumentos e retorna a soma desses números. Em seguida, chame a função e imprima o resultado."
   ]
  },
  {
   "cell_type": "code",
   "execution_count": 27,
   "metadata": {},
   "outputs": [
    {
     "name": "stdout",
     "output_type": "stream",
     "text": [
      "O resultado da soma é: 13\n"
     ]
    }
   ],
   "source": [
    "numero1= int(input('Digite o primeiro numero '))\n",
    "numero2 = int(input('Digite o segundo numero '))\n",
    "\n",
    "def soma(numero1,numero2):\n",
    "    return numero1+numero2\n",
    "\n",
    "resultado = soma(numero1,numero2)\n",
    "\n",
    "print(\"O resultado da soma é:\", resultado)"
   ]
  },
  {
   "cell_type": "markdown",
   "metadata": {},
   "source": [
    "Escreva uma função chamada fatorial que recebe um número inteiro positivo como argumento e retorna o fatorial desse número."
   ]
  },
  {
   "cell_type": "code",
   "execution_count": 24,
   "metadata": {},
   "outputs": [
    {
     "name": "stdout",
     "output_type": "stream",
     "text": [
      "7\n",
      "14\n",
      "21\n",
      "28\n",
      "35\n",
      "42\n",
      "None\n"
     ]
    }
   ],
   "source": [
    "numero_inteiro = int(input('Digite um numero inteiro'))\n",
    "\n",
    "def fatorial(numero_inteiro):\n",
    "    for i in range (numero_inteiro):\n",
    "            if i >0:\n",
    "                resultado_teste = print(numero_inteiro*i)\n",
    "                #print(resultado_teste)\n",
    "    return resultado_teste              \n",
    "    \n",
    "print(fatorial(numero_inteiro))      "
   ]
  },
  {
   "cell_type": "markdown",
   "metadata": {},
   "source": [
    "Escreva uma função chamada conta_vogais que recebe uma string como argumento e retorna a quantidade de vogais presentes na string."
   ]
  },
  {
   "cell_type": "code",
   "execution_count": 20,
   "metadata": {},
   "outputs": [
    {
     "name": "stdout",
     "output_type": "stream",
     "text": [
      "{'a': 0, 'e': 2, 'i': 1, 'o': 0, 'u': 0}\n"
     ]
    }
   ],
   "source": [
    "texto = str(input('Digite um texto'))\n",
    "\n",
    "def conta_vogais(texto):\n",
    "    texto = texto.lower() # para que a comparação não seja sensível a maiuscula/minuscula\n",
    "    vogais = 'aeiou'\n",
    "    return {i: texto.count(i) for i in vogais}\n",
    "\n",
    "print(conta_vogais(texto))"
   ]
  },
  {
   "cell_type": "markdown",
   "metadata": {},
   "source": [
    "Escreva uma função que solicite a idade de uma pessoa e imprima se ela é criança, adolescente, adulta ou idosa."
   ]
  },
  {
   "cell_type": "markdown",
   "metadata": {},
   "source": [
    "Considere as seguintes faixas etárias:\n",
    "- Criança: até 12 anos\n",
    "- Adolescente: de 13 a 17 anos\n",
    "- Adulto: de 18 a 59 anos\n",
    "- Idoso: 60 anos ou mais"
   ]
  },
  {
   "cell_type": "code",
   "execution_count": 28,
   "metadata": {},
   "outputs": [
    {
     "name": "stdout",
     "output_type": "stream",
     "text": [
      "Idoso\n"
     ]
    }
   ],
   "source": [
    "idade = int(input('Digite a sua idade'))   \n",
    "def faixa_etaria(idade):\n",
    "    if idade <= 12:\n",
    "        resultado_etaria = 'Criança'\n",
    "    elif idade >12 and idade<= 17:\n",
    "        resultado_etaria = 'Adolescente'\n",
    "    elif idade >17 and idade<= 59:\n",
    "        resultado_etaria = 'Adulto'\n",
    "    else:\n",
    "        resultado_etaria='Idoso'\n",
    "    return resultado_etaria\n",
    "\n",
    "print (faixa_etaria(idade))"
   ]
  },
  {
   "cell_type": "markdown",
   "metadata": {},
   "source": [
    "Crie uma função chamada fibonacci que recebe um número inteiro n e retorna o n-ésimo número da sequência de Fibonacci. Utilize recursão para resolver o problema."
   ]
  },
  {
   "cell_type": "code",
   "execution_count": 29,
   "metadata": {},
   "outputs": [
    {
     "name": "stdout",
     "output_type": "stream",
     "text": [
      "8\n"
     ]
    }
   ],
   "source": [
    "n = int(input('Digite um número inteiro: '))\n",
    "def fibonnaci(n):\n",
    "    if n <=0:\n",
    "        return \"O numero precisa ser poitivo\"\n",
    "    elif n == 1:\n",
    "        return 0\n",
    "    elif n == 2:\n",
    "        return 1\n",
    "    else:\n",
    "        return fibonnaci(n-1) + fibonnaci (n-2)\n",
    "print (fibonnaci(7))\n"
   ]
  }
 ],
 "metadata": {
  "kernelspec": {
   "display_name": ".venv",
   "language": "python",
   "name": "python3"
  },
  "language_info": {
   "codemirror_mode": {
    "name": "ipython",
    "version": 3
   },
   "file_extension": ".py",
   "mimetype": "text/x-python",
   "name": "python",
   "nbconvert_exporter": "python",
   "pygments_lexer": "ipython3",
   "version": "3.12.9"
  }
 },
 "nbformat": 4,
 "nbformat_minor": 2
}
