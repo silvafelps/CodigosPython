{
 "cells": [
  {
   "cell_type": "markdown",
   "metadata": {},
   "source": [
    "![Growdev](https://www.growdev.com.br/assets/images/logo_growdev.png)"
   ]
  },
  {
   "cell_type": "markdown",
   "metadata": {},
   "source": [
    "Exercícios:"
   ]
  },
  {
   "cell_type": "markdown",
   "metadata": {},
   "source": [
    "1 - Crie uma lista com 5 números inteiros. Em seguida, escreva um programa que exiba:\n",
    "\n",
    "- O maior número da lista.\n",
    "- O menor número da lista.\n",
    "- A soma de todos os números da lista."
   ]
  },
  {
   "cell_type": "markdown",
   "metadata": {},
   "source": [
    "2 - Escreva um programa que solicite ao usuário 5 números e os adicione a um conjunto (set). No final, exiba todos os números, garantindo que não haja repetições."
   ]
  },
  {
   "cell_type": "markdown",
   "metadata": {},
   "source": [
    "3 - Crie uma tupla com o nome de 5 frutas. Escreva um programa que:\n",
    "\n",
    "- Imprima a tupla completa.\n",
    "- Imprima a fruta na primeira posição.\n",
    "- Verifique se a fruta \"banana\" está presente na tupla."
   ]
  },
  {
   "cell_type": "markdown",
   "metadata": {},
   "source": [
    "4 - Crie um dicionário que armazena o nome de 3 pessoas e suas idades. Escreva um programa que:\n",
    "\n",
    "- Imprima o dicionário completo.\n",
    "- Imprima apenas as idades.\n",
    "- Adicione uma nova pessoa e sua idade ao dicionário."
   ]
  },
  {
   "cell_type": "code",
   "execution_count": null,
   "metadata": {},
   "outputs": [
    {
     "name": "stdout",
     "output_type": "stream",
     "text": [
      "[5, 10, 15, 20, 25]\n",
      "[5, 10, 15, 20, 25, 3]\n",
      "[5, 10, 15, 20, 25]\n"
     ]
    }
   ],
   "source": [
    "# Primeiro Exercicio\n",
    "\n",
    "minha_lista_numero = [5,10,15,20,25]\n",
    "print (minha_lista_numero[0:25])\n",
    "sum(minha_lista_numero)\n",
    "max(minha_lista_numero)\n",
    "min(minha_lista_numero)\n",
    "minha_lista_numero.append(3)\n",
    "print (minha_lista_numero)\n",
    "minha_lista_numero.remove(3)\n",
    "print(minha_lista_numero)"
   ]
  },
  {
   "cell_type": "code",
   "execution_count": 42,
   "metadata": {},
   "outputs": [
    {
     "data": {
      "text/plain": [
       "list"
      ]
     },
     "execution_count": 42,
     "metadata": {},
     "output_type": "execute_result"
    }
   ],
   "source": [
    "minha_tupla = (1,2,3,4,5,6,7,8,9,10)\n",
    "minha_tupla.count(2)\n",
    "minha_tupla.index(5)\n",
    "minha_tupla[5]\n",
    "type(list(minha_tupla))"
   ]
  },
  {
   "cell_type": "code",
   "execution_count": null,
   "metadata": {},
   "outputs": [
    {
     "name": "stdout",
     "output_type": "stream",
     "text": [
      "{'3', '6', '1', '5', '4', '2'}\n"
     ]
    }
   ],
   "source": [
    "# Segundo Exercico\n",
    "numeros_usuario = set(input('Digite 5 numeros nao é necessario separar por virgula:'))\n",
    "print (numeros_usuario)\n",
    "\n",
    "\n",
    "numeros = set()\n",
    "for _ in range(5):\n",
    "    num = int(input('Digite um numero inteiro: '))\n",
    "    numeros.add(num)\n",
    "print(numeros)\n"
   ]
  },
  {
   "cell_type": "code",
   "execution_count": null,
   "metadata": {},
   "outputs": [
    {
     "name": "stdout",
     "output_type": "stream",
     "text": [
      "('peira', 'uva', 'abacaxi', 'Kiwi', 'Figo')\n",
      "Nao contem\n"
     ]
    }
   ],
   "source": [
    "# Terceiro Exercicio\n",
    "# Printa todos os items\n",
    "tupla_frutas = ('peira','uva','abacaxi','Kiwi','Figo')\n",
    "print(tupla_frutas)\n",
    "# Print primeira fruta\n",
    "tupla_frutas[0]\n",
    "for i in tupla_frutas:\n",
    "    if i == ('banana'):\n",
    "        resultado_contem= ('Contem')\n",
    "    else:\n",
    "        resultado_contem = ('Nao contem')\n",
    "print (resultado_contem)        \n",
    "\n",
    "\n",
    "if 'banana' in tupla_frutas:\n",
    "    print('Banana esta presente')\n",
    "else:\n",
    "    print('Banana nao esta presente')"
   ]
  },
  {
   "cell_type": "code",
   "execution_count": 55,
   "metadata": {},
   "outputs": [
    {
     "name": "stdout",
     "output_type": "stream",
     "text": [
      "{'Felipe': 32, 'Wunder': 19, 'Thiagola': 27, 'Simone': 30, 'Sidney': 39}\n",
      "dict_values([32, 19, 27, 30, 39])\n",
      "{'Felipe': 32, 'Wunder': 19, 'Thiagola': 27, 'Simone': 30, 'Sidney': 39, 'Cintia': 33}\n"
     ]
    }
   ],
   "source": [
    "# Exercicio 4\n",
    "nomes_idades = {\"Felipe\":32,\n",
    "                \"Wunder\":19,\n",
    "                \"Thiagola\":27,\n",
    "                \"Simone\":30,\n",
    "                \"Sidney\":39,\n",
    "}\n",
    "print (nomes_idades)\n",
    "print (nomes_idades.values())\n",
    "nomes_idades.update({\"Cintia\":33\n",
    "})\n",
    "print (nomes_idades)"
   ]
  }
 ],
 "metadata": {
  "kernelspec": {
   "display_name": ".venv",
   "language": "python",
   "name": "python3"
  },
  "language_info": {
   "codemirror_mode": {
    "name": "ipython",
    "version": 3
   },
   "file_extension": ".py",
   "mimetype": "text/x-python",
   "name": "python",
   "nbconvert_exporter": "python",
   "pygments_lexer": "ipython3",
   "version": "3.12.9"
  }
 },
 "nbformat": 4,
 "nbformat_minor": 2
}
