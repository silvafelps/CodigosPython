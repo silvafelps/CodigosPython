{
 "cells": [
  {
   "cell_type": "markdown",
   "metadata": {},
   "source": [
    "**Calculadora Dinâmica**"
   ]
  },
  {
   "cell_type": "code",
<<<<<<< HEAD
   "execution_count": 19,
=======
   "execution_count": 13,
>>>>>>> 04a70fb03aa614ff42a28c18057d69a3350baf01
   "metadata": {},
   "outputs": [],
   "source": [
    "# input dos dados\n",
    "expressao = str(input('Digite dois valores a expressão matematica que deseja usar:'))\n"
   ]
  },
  {
   "cell_type": "code",
<<<<<<< HEAD
   "execution_count": 20,
=======
   "execution_count": 14,
>>>>>>> 04a70fb03aa614ff42a28c18057d69a3350baf01
   "metadata": {},
   "outputs": [
    {
     "name": "stdout",
     "output_type": "stream",
     "text": [
<<<<<<< HEAD
      "14\n",
      "8\n",
      "-\n"
=======
      "7\n",
      "8\n",
      "*\n"
>>>>>>> 04a70fb03aa614ff42a28c18057d69a3350baf01
     ]
    }
   ],
   "source": [
    "# separa os valores obtidos\n",
    "numero_separado = expressao.split()\n",
    "primeiro_numero = int(numero_separado[0])\n",
    "segundo_numero = int(numero_separado[2])\n",
    "print(primeiro_numero)\n",
    "print(segundo_numero)\n",
    "# captura a operação matemática\n",
    "operacao_matematica = (numero_separado[1])\n",
    "print(operacao_matematica)"
   ]
  },
  {
   "cell_type": "code",
   "execution_count": null,
   "metadata": {},
   "outputs": [
    {
     "name": "stdout",
     "output_type": "stream",
     "text": [
<<<<<<< HEAD
      "6\n"
=======
      "56\n"
>>>>>>> 04a70fb03aa614ff42a28c18057d69a3350baf01
     ]
    }
   ],
   "source": [
    "# le a string com a operacao e realiza a operacao\n",
    "if operacao_matematica == \"+\":\n",
    "    resultado = primeiro_numero + segundo_numero\n",
    "elif operacao_matematica == \"-\":\n",
    "    resultado = primeiro_numero - segundo_numero\n",
    "elif operacao_matematica == \"/\":\n",
    "    resultado = primeiro_numero / segundo_numero\n",
    "elif operacao_matematica == \"*\":\n",
    "    resultado = primeiro_numero * segundo_numero\n",
<<<<<<< HEAD
    "# exibe o resultado\n",
=======
    "\n",
>>>>>>> 04a70fb03aa614ff42a28c18057d69a3350baf01
    "print(resultado)"
   ]
  }
 ],
 "metadata": {
  "kernelspec": {
   "display_name": ".venv",
   "language": "python",
   "name": "python3"
  },
  "language_info": {
   "codemirror_mode": {
    "name": "ipython",
    "version": 3
   },
   "file_extension": ".py",
   "mimetype": "text/x-python",
   "name": "python",
   "nbconvert_exporter": "python",
   "pygments_lexer": "ipython3",
   "version": "3.12.9"
  }
 },
 "nbformat": 4,
 "nbformat_minor": 2
}
