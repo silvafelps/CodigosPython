{
 "cells": [
  {
   "cell_type": "code",
   "execution_count": 3,
   "metadata": {},
   "outputs": [
    {
     "name": "stdout",
     "output_type": "stream",
     "text": [
      "11\n",
      "-5\n",
      "24\n",
      "0.375\n",
      "3\n"
     ]
    }
   ],
   "source": [
    "primeiro_valor = int(input('Digite o primeiro valor:'))\n",
    "segundo_valor = int(input('Digite o segundo valor:'))\n",
    "\n",
    "soma = primeiro_valor+segundo_valor\n",
    "print(soma)\n",
    "subtracao = primeiro_valor-segundo_valor\n",
    "print(subtracao)\n",
    "multipliacao = primeiro_valor*segundo_valor\n",
    "print(multipliacao)\n",
    "divisao = primeiro_valor/segundo_valor\n",
    "print(divisao)\n",
    "resto = primeiro_valor%segundo_valor\n",
    "print(resto)"
   ]
  },
  {
   "cell_type": "code",
   "execution_count": 9,
   "metadata": {},
   "outputs": [
    {
     "name": "stdout",
     "output_type": "stream",
     "text": [
      "89.6\n"
     ]
    }
   ],
   "source": [
    "temperatura_celsuis = float(input('Digite a temperatura em celsius'))\n",
    "temperatura_farenheit = (9 / 5) * temperatura_celsuis + 32\n",
    "print(temperatura_farenheit)"
   ]
  },
  {
   "cell_type": "code",
   "execution_count": 10,
   "metadata": {},
   "outputs": [
    {
     "name": "stdout",
     "output_type": "stream",
     "text": [
      "31.666666666666668\n"
     ]
    }
   ],
   "source": [
    "temperatura_farenheit = float(input('Digite a temperatura em Farenheit'))\n",
    "temperatura_celsuis = (temperatura_farenheit-32) * 5/9\n",
    "print(temperatura_celsuis)"
   ]
  }
 ],
 "metadata": {
  "kernelspec": {
   "display_name": ".venv",
   "language": "python",
   "name": "python3"
  },
  "language_info": {
   "codemirror_mode": {
    "name": "ipython",
    "version": 3
   },
   "file_extension": ".py",
   "mimetype": "text/x-python",
   "name": "python",
   "nbconvert_exporter": "python",
   "pygments_lexer": "ipython3",
   "version": "3.12.9"
  }
 },
 "nbformat": 4,
 "nbformat_minor": 2
}
